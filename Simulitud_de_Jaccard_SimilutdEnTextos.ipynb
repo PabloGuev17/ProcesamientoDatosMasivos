{
  "nbformat": 4,
  "nbformat_minor": 0,
  "metadata": {
    "colab": {
      "provenance": [],
      "authorship_tag": "ABX9TyPtk4WZ50TJcScyHlc+zBcZ",
      "include_colab_link": true
    },
    "kernelspec": {
      "name": "python3",
      "display_name": "Python 3"
    },
    "language_info": {
      "name": "python"
    }
  },
  "cells": [
    {
      "cell_type": "markdown",
      "metadata": {
        "id": "view-in-github",
        "colab_type": "text"
      },
      "source": [
        "<a href=\"https://colab.research.google.com/github/PabloGuev17/ProcesamientoDatosMasivos/blob/main/Simulitud_de_Jaccard_SimilutdEnTextos.ipynb\" target=\"_parent\"><img src=\"https://colab.research.google.com/assets/colab-badge.svg\" alt=\"Open In Colab\"/></a>"
      ]
    },
    {
      "cell_type": "code",
      "execution_count": null,
      "metadata": {
        "id": "_1ngWHWTLMKW"
      },
      "outputs": [],
      "source": []
    },
    {
      "cell_type": "markdown",
      "source": [
        "# Shingling y comparación de conjuntos\n",
        "\n",
        "Vamos a aprender como comparar conjuntos usando la medida de simulitud de Jaccard, y como usar shingling para transformar texto a conjuntos, de forma de poder compararlos."
      ],
      "metadata": {
        "id": "1KwnZNqUMSbI"
      }
    },
    {
      "cell_type": "markdown",
      "source": [
        "## Shingling\n",
        "\n",
        "La técnica de *k*-shingling consiste en transformar un texto (es decir, un string) a un conjunto formado por todos los substring de tamaño *k* de ese texto, incluyendo espacios y otros caracteres no lexicográficos.\n",
        "\n",
        "Veamos como hacer esto para un conjunto de 10 poesías escritas por Pablo Neruda, parte de su obra de Odas Elementales."
      ],
      "metadata": {
        "id": "AlD6LmNLMpii"
      }
    },
    {
      "cell_type": "code",
      "source": [
        "### Para almacenar los distintos textos creamos un diccionario.\n",
        "odas = {}\n",
        "\n",
        "### Vamos a subir cada texto indexado por un keyword distinto en este diccionario.\n",
        "### Para hacerlos más legibles, reemplazamos los fin de línea por un espacio.\n",
        "\n",
        "with open(\"oda_alegria.txt\", \"r\") as file:\n",
        "    text = file.read().replace('\\n', ' ')\n",
        "odas['alegria']=text\n",
        "\n",
        "with open(\"oda_caldillo.txt\", \"r\") as file:\n",
        "    text = file.read().replace('\\n', ' ')\n",
        "odas['caldillo']=text\n",
        "\n",
        "with open(\"oda_feliz.txt\", \"r\") as file:\n",
        "    text = file.read().replace('\\n', ' ')\n",
        "odas['feliz']=text\n",
        "\n",
        "with open(\"oda_libro.txt\", \"r\") as file:\n",
        "    text = file.read().replace('\\n', ' ')\n",
        "odas['libro']=text\n",
        "\n",
        "with open(\"oda_mar.txt\", \"r\") as file:\n",
        "    text = file.read().replace('\\n', ' ')\n",
        "odas['mar']=text\n",
        "\n",
        "with open(\"oda_poetas.txt\", \"r\") as file:\n",
        "    text = file.read().replace('\\n', ' ')\n",
        "odas['poetas']=text\n",
        "\n",
        "with open(\"oda_tiempo.txt\", \"r\") as file:\n",
        "    text = file.read().replace('\\n', ' ')\n",
        "odas['tiempo']=text\n",
        "\n",
        "with open(\"oda_tristeza.txt\", \"r\") as file:\n",
        "    text = file.read().replace('\\n', ' ')\n",
        "odas['tristeza']=text\n",
        "\n",
        "\n",
        "with open(\"oda_valparaiso.txt\", \"r\") as file:\n",
        "    text = file.read().replace('\\n', ' ')\n",
        "odas['valparaiso']=text\n",
        "\n",
        "\n",
        "with open(\"oda_vino.txt\", \"r\") as file:\n",
        "    text = file.read().replace('\\n', ' ')\n",
        "odas['vino']=text\n",
        "\n",
        "### Como vemos, el resultado es que cada uno de estos textos es un string,\n",
        "### indexado en el diccionario por un keyword diferente.\n",
        "\n",
        "print(odas)"
      ],
      "metadata": {
        "colab": {
          "base_uri": "https://localhost:8080/"
        },
        "id": "tDdALRpKMqFS",
        "outputId": "6ec400dc-0ef7-447f-c8fb-827a414c57c8"
      },
      "execution_count": 9,
      "outputs": [
        {
          "output_type": "stream",
          "name": "stdout",
          "text": [
            "{'alegria': 'Alegría hoja verde caída en la ventana, minúscula claridad recién nacida, elefante sonoro, deslumbrante moneda, a veces ráfaga quebradiza, pero más bien pan permanente, esperanza cumplida, deber desarrollado. Te desdeñé, alegría. Fui mal aconsejado. La luna me llevó por sus caminos. Los antiguos poetas me prestaron anteojos y junto a cada cosa un nimbo oscuro puse, sobre la flor una corona negra, sobre la boca amada un triste beso. Aún es temprano. Déjame arrepentirme. Pensé que solamente si quemaba mi corazón la zarza del tormento, si mojaba la lluvia mi vestido en la comarca cárdena del luto, si cerraba los ojos a la rosa y tocaba la herida, si compartía todos los dolores, yo ayudaba a los hombres. No fui justo. Equivoqué mis pasos y hoy te llamo, alegría.  Como la tierra eres necesaria.  Como el fuego sustentas los hogares.  Como el pan eres pura.  Como el agua de un río eres sonora.  Como una abeja repartes miel volando.  Alegría, fui un joven taciturno, hallé tu cabellera escandalosa.  No era verdad, lo supe cuando en mi pecho desató su cascada.  Hoy, alegría, encontrada en la calle, lejos de todo libro, acompáñame:  contigo quiero ir de casa en casa, quiero ir de pueblo en pueblo, de bandera en bandera. No eres para mí solo. A las islas iremos, a los mares. A las minas iremos, a los bosques. No sólo leñadores solitarios, pobres lavanderas o erizados, augustos picapedreros, me van a recibir con tus racimos, sino los congregados, los reunidos, los sindicatos de mar o madera, los valientes muchachos en su lucha.  Contigo por el mundo! Con mi canto! Con el vuelo entreabierto de la estrella, y con el regocijo de la espuma!  Voy a cumplir con todos porque debo a todos mi alegría.  No se sorprenda nadie porque quiero entregar a los hombres los dones de la tierra, porque aprendí luchando que es mi deber terrestre propagar la alegría. Y cumplo mi destino con mi canto.', 'caldillo': 'En el mar tormentoso de Chile vive el rosado congrio, gigante anguila de nevada carne. Y en las ollas chilenas, en la costa, nació el caldillo grávido y suculento, provechoso. Lleven a la cocina el congrio desollado, su piel manchada cede como un guante y al descubierto queda entonces el racimo del mar, el congrio tierno reluce ya desnudo, preparado para nuestro apetito. Ahora recoges ajos, acaricia primero ese marfil precioso, huele su fragancia iracunda, entonces deja el ajo picado caer con la cebolla y el tomate hasta que la cebolla tenga color de oro. Mientras tanto se cuecen con el vapor los regios camarones marinos y cuando ya llegaron a su punto, cuando cuajó el sabor en una salsa formada por el jugo del océano y por el agua clara que desprendió la luz de la cebolla, entonces que entre el congrio y se sumerja en gloria, que en la olla se aceite, se contraiga y se impregne. Ya sólo es necesario dejar en el manjar caer la crema como una rosa espesa, y al fuego lentamente entregar el tesoro hasta que en el caldillo se calienten las esencias de Chile, y a la mesa lleguen recién casados los sabores del mar y de la tierra para que en ese plato tú conozcas el cielo.', 'feliz': 'Esta vez dejadme ser feliz, nada ha pasado a nadie, no estoy en parte alguna, sucede solamente que soy feliz por los cuatro costados del corazón, andando, durmiendo o escribiendo. Qué voy a hacerle, soy feliz. Soy más innumerable que el pasto en las praderas, siento la piel como un árbol rugoso y el agua abajo, los pájaros arriba, el mar como un anillo en mi cintura, hecha de pan y piedra la tierra el aire canta como una guitarra.  Tú a mi lado en la arena eres arena, tú cantas y eres canto, el mundo es hoy mi alma, canto y arena, el mundo es hoy tu boca, dejadme en tu boca y en la arena ser feliz, ser feliz porque si, porque respiro y porque tú respiras, ser feliz porque toco tu rodilla y es como si tocara la piel azul del cielo y su frescura.  Hoy dejadme a mí solo ser feliz, con todos o sin todos, ser feliz con el pasto y la arena, ser feliz con el aire y la tierra, ser feliz, contigo, con tu boca, ser feliz.', 'libro': 'Libro hermoso, libro, mínimo bosque, hoja tras hoja, huele tu papel a elemento, eres matutino y nocturno, cereal, oceánico, en tus antiguas páginas cazadores de osos, fogatas cerca del Mississippi, canoas en las islas, más tarde caminos y caminos, revelaciones, pueblos insurgentes, Rimbaud como un herido pez sangriento palpitando en el lodo, y la hermosura de la fraternidad, piedra por piedra sube el castillo humano, dolores que entretejen la firmeza, acciones solidarias, libro oculto de bolsillo en bolsillo, lámpara clandestina, estrella roja.  Nosotros los poetas caminantes exploramos el mundo, en cada puerta nos recibió la vida, participamos en la lucha terrestre. Cuál fue nuestra victoria? Un libro, un libro lleno de contactos humanos, de camisas, un libro sin soledad, con hombres y herramientas, un libro es la victoria. Vive y cae como todos los frutos, no sólo tiene luz, no sólo tiene sombra, se apaga, se deshoja, se pierde entre las calles, se desploma en la tierra. Libro de poesía de mañana, otra vez vuelve a tener nieve o musgo en tus páginas para que las pisadas o los ojos vayan grabando huellas: de nuevo descríbenos el mundo los manantiales entre la espesura, las altas arboledas, los planetas polares, y el hombre en los caminos, en los nuevos caminos, avanzando en la selva, en el agua, en el cielo, en la desnuda soledad marina, el hombre descubriendo los últimos secretos, el hombre regresando con un libro, el cazador de vuelta con un libro, el campesino arando con un libro. ', 'mar': 'Aquí en la isla el mar y cuánto mar se sale de sí mismo a cada rato, dice que sí, que no, que no, que no, que no, dice que si, en azul, en espuma, en galope, dice que no, que no. No puede estarse quieto, me llamo mar, repite pegando en una piedra sin lograr convencerla, entonces con siete lenguas verdes de siete perros verdes, de siete tigres verdes, de siete mares verdes, la recorre, la besa, la humedece y se golpea el pecho repitiendo su nombre. Oh mar, así te llamas, oh camarada océano, no pierdas tiempo y agua, no te sacudas tanto, ayúdanos, somos los pequeñitos pescadores, los hombres de la orilla, tenemos frío y hambre eres nuestro enemigo, no golpees tan fuerte, no grites de ese modo, abre tu caja verde y déjanos a todos en las manos tu regalo de plata: el pez de cada día.  Aquí en cada casa lo queremos y aunque sea de plata, de cristal o de luna, nació para las pobres cocinas de la tierra. No lo guardes, avaro, corriendo frío como relámpago mojado debajo de tus olas. Ven, ahora, ábrete y déjalo cerca de nuestras manos, ayúdanos, océano, padre verde y profundo, a terminar un día la pobreza terrestre. Déjanos cosechar la infinita plantación de tus vidas, tus trigos y tus uvas, tus bueyes, tus metales, el esplendor mojado y el fruto sumergido.  Padre mar, ya sabemos cómo te llamas, todas las gaviotas reparten tu nombre en las arenas: ahora, pórtate bien, no sacudas tus crines, no amenaces a nadie, no rompas contra el cielo tu bella dentadura, déjate por un rato de gloriosas historias, danos a cada hombre, a cada mujer y a cada niño, un pez grande o pequeño cada día. Sal por todas las calles del mundo a repartir pescado y entonces grita, grita para que te oigan todos los pobres que trabajan y digan, asomando a la boca de la mina: \"Ahí viene el viejo mar repartiendo pescado\". Y volverán abajo, a las tinieblas, sonriendo, y por las calles y los bosques sonreirán los hombres y la tierra con sonrisa marina. Pero si no lo quieres, si no te da la gana, espérate, espéranos, lo vamos a pensar, vamos en primer término a arreglar los asuntos humanos, los más grandes primero, todos los otros después, y entonces entraremos en ti, cortaremos las olas con cuchillo de fuego, en un caballo eléctrico saltaremos la espuma, cantando nos hundiremos hasta tocar el fondo de tus entrañas, un hilo atómico guardará tu cintura, plantaremos en tu jardín profundo plantas de cemento y acero, te amarraremos pies y manos, los hombres por tu piel pasearán escupiendo, sacándote racimos, construyéndote arneses, montándote y domándote dominándote el alma. Pero eso será cuando los hombres hayamos arreglado nuestro problema, el grande, el gran problema. Todo lo arreglaremos poco a poco: te obligaremos, mar, te obligaremos, tierra, a hacer milagros, porque en nosotros mismos, en la lucha, está el pez,  está el pan, está el milagro. ', 'poetas': 'Poetas naturales de la tierra, escondidos en surcos, cantando en las esquinas, ciegos de callejón, oh trovadores de las praderas y los almacenes, si al agua comprendiéramos tal vez corno vosotros hablaría, si las piedras dijeran su lamento o su silencio, con vuestra voz, hermanos, hablarían. Numerosos sois, como las raíces. En el antiguo corazón del pueblo habéis nacido y de allí viene vuestra voz sencilla. Tenéis la jerarquía del silencioso cántaro de greda perdido en los rincones, de pronto canta cuando se desborda y es sencillo su canto, es sólo tierra y agua.  Así quiero que canten mis poemas, que lleven tierra y agua, fertilidad y canto, a todo el mundo. Por eso, poetas de mi pueblo, saludo la antigua luz que sale de la tierra. El eterno hilo en que se juntaron pueblo y poesía, nunca se cortó este profundo hilo de piedra, viene desde tan lejos como la memoria del hombre. Vio con los ojos ciegos de los vates nacer la tumultuosa primavera, la sociedad humana, el primer beso, y en la guerra cantó sobre la sangre, allí estaba mi hermano barba roja, cabeza ensangrentada y ojos ciegos, con su lira, allí estaba cantando entre los muertos, Homero se llamaba o Pastor Pérez, o Reinaldo Donoso. Sus endechas eran allí y ahora un vuelo blanco, una paloma, eran la paz, la rama del árbol del aceite, y la continuidad de la hermosura. Más tarde los absorbió la calle, la campiña, los encontré cantando entre las reses, en la celebración del desafío, relatando las penas de los pobres, llevando las noticias de las inundaciones, detallando las ruinas del incendio o la noche nefanda de los asesinatos.  Ellos, los poetas de mi pueblo, errantes, pobres entre los pobres, sostuvieron sobre sus canciones la sonrisa, criticaron con sorna a los explotadores, contaron la miseria del minero y el destino implacable del soldado. Ellos, los poetas del pueblo, con guitarra harapienta y ojos conocedores de la vida, sostuvieron en su canto una rosa y la mostraron en los callejones para que se supiera que la vida no será siempre triste. Payadores, poetas humildemente altivos, a través de la historia y sus reveses, a través de la paz y de la guerra, de la noche y la aurora, sois vosotros los depositarios, los tejedores de la poesía, y ahora aquí en mi patria está el tesoro, el cristal de Castilla, la soledad de Chile, la pícara inocencia, y la guitarra contra el infortunio, la mano solidaria en el camino, la palabra repetida en el canto y transmitida, la voz de piedra y agua entre raíces, la rapsodia del viento, la voz que no requiere librerías, todo lo que debemos aprender los orgullosos: con la verdad del pueblo la eternidad del canto. ', 'tiempo': 'Dentro de ti tu edad creciendo, dentro de mí mi edad andando. El tiempo es decidido, no suena su campana, se acrecienta, camina, por dentro de nosotros, aparece como un agua profunda en la mirada y junto a las castañas quemadas de tus ojos una brizna, la huella de un minúsculo rio, una estrellita seca ascendiendo a tu boca. Sube el tiempo sus hilos a tu pelo, pero en mi corazón como una madreselva es tu fragancia, viviente como el fuego. Es bello como lo que vivimos envejecer viviendo. Cada dia fue piedra transparente, cada noche para nosotros fue una rosa negra, y este surco en tu rostro o en el mío son piedra o flor, recuerdo de un relámpago. Mis ojos se han gastado en tu hermosura, pero tú eres mis ojos. Yo fatigué tal vez bajo mis besos tu pecho duplicado, pero todos han visto en mi alegría tu resplandor secreto. Amor, qué importa que el tiempo, el mismo que elevó como dos llamas o espigas paralelas mi cuerpo y tu dulzura, mañana los mantenga o los desgrane y con sus mismos dedos invisibles borre la identidad que nos separa dándonos la victoria de un solo ser final bajo la tierra. ', 'tristeza': 'Tristeza, escarabajo de siete patas rotas, huevo de telaraña, rata descalabrada, esqueleto de perra: Aquí no entras. No pasas. Ándate. Vuelve al Sur con tu paraguas, vuelve al Norte con tus dientes de culebra. Aquí vive un poeta. La tristeza no puede entrar por estas puertas. Por las ventanas entra el aire del mundo, las rojas rosas nuevas, las banderas bordadas del pueblo y sus victorias. No puedes. Aquí no entras. Sacude tus alas de murciélago, yo pisaré las plumas que caen de tu manto, yo barreré los trozos de tu cadáver hacia las cuatro puntas del viento, yo te torceré el cuello, te coseré los ojos, cortaré tu mortaja y enterraré tus huesos roedores bajo la primavera de un manzano. ', 'valparaiso': 'Valparaíso, qué disparate eres, qué loco, puerto loco, qué cabeza con cerros, desgreñada, no acabas de peinarte, nunca tuviste tiempo de vestirte, siempre te sorprendió la vida, te despertó la muerte, en camisa, en largos calzoncillos con flecos de colores, desnudo con un nombre tatuado en la barriga, y con sombrero, te agarró el terremoto, corriste enloquecido, te quebraste las uñas, se movieron las aguas y las piedras, las veredas, el mar, la noche, tú dormías en tierra, cansado de tus navegaciones, y la tierra, furiosa, levantó su oleaje más tempestuoso que el vendaval marino, el polvo te cubría los ojos, las llamas quemaban tus zapatos, las sólidas casas de los banqueros trepidaban como heridas ballenas, mientras arriba las casas de los pobres saltaban al vacio como aves prisioneras que probando las alas se desploman.  Pronto, Valparaíso, marinero, te olvidas de las lágrimas, vuelves a colgar tus moradas, a pintar puertas verdes, ventanas amarillas, todo lo transformas en nave, eres la remendada proa de un pequeño, valeroso navío. La tempestad corona con espuma tus cordeles que cantan y la luz del océano hace temblar camisas y banderas en tu vacilación indestructible.  Estrella oscura eres de lejos, en la altura de la costa resplandeces y pronto entregas tu escondido fuego, el vaivén de tus sordos callejones, el desenfado de tu movimiento, la claridad de tu marinería. Aquí termino, es esta oda, Valparaíso, tan pequeña como una camiseta desvalida, colgando en tus ventanas harapientas meciéndose en el viento del océano, impregnándose de todos los dolores de tu suelo, recibiendo el rocío de los mares, el beso del ancho mar colérico que con toda su fuerza golpeándose en tu piedra no pudo derribarte, porque en tu pecho austral están tatuadas la lucha, la esperanza, la solidaridad y la alegría como anclas que resisten las olas de la tierra. ', 'vino': 'Vino color de día, vino color de noche, vino con pies de púrpura o sangre de topacio, vino, estrellado hijo de la tierra, vino, liso como una espada de oro, suave como un desordenado terciopelo, vino encaracolado y suspendido, amoroso, marino, nunca has cabido en una copa, en un canto, en un hombre, coral, gregario eres, y cuando menos, mutuo. A veces te nutres de recuerdos mortales, en tu ola vamos de tumba en tumba, picapedrero de sepulcro helado, y lloramos lágrimas transitorias, pero tu hermoso traje de primavera es diferente, el corazón sube a las ramas, el viento mueve el día, nada queda dentro de tu alma inmóvil. El vino mueve la primavera, crece como una planta la alegría, caen muros, peñascos, se cierran los abismos, nace el canto. Oh tú, jarra de vino, en el desierto con la sabrosa que amo, dijo el viejo poeta. Que el cántaro de vino al beso del amor sume su beso.  Amor mio, de pronto tu cadera es la curva colmada de la copa, tu pecho es el racimo, la luz del alcohol tu cabellera, las uvas tus pezones, tu ombligo sello puro estampado en tu vientre de vasija, y tu amor la cascada de vino inextinguible, la claridad que cae en mis sentidos, el esplendor terrestre de la vida.  Pero no sólo amor, beso quemante o corazón quemado eres, vino de vida, sino amistad de los seres, transparencia, coro de disciplina, abundancia de flores. Amo sobre una mesa, cuando se habla, la luz de una botella de inteligente vino. Que lo beban, que recuerden en cada gota de oro o copa de topacio o cuchara de púrpura que trabajó el otoño hasta llenar de vino las vasijas y aprenda el hombre oscuro, en el ceremonial de su negocio, a recordar la tierra y sus deberes, a propagar el cántico del fruto. '}\n"
          ]
        }
      ]
    },
    {
      "cell_type": "code",
      "source": [
        "### El siguiente pedazo de código genera un diccionario, indexado bajo los mismos keywords que los textos,\n",
        "### En este diccionario almacenamos el resultado de hacer k-shingling en el texto.\n",
        "\n",
        "### Probemos con k = 3\n",
        "\n",
        "odas_shingles = {}\n",
        "k = 3\n",
        "\n",
        "\n",
        "### iteramos sobre todas las odas\n",
        "for (name,text) in odas.items():\n",
        "\n",
        "    ### Es importante declarar los shingles como un set (conjunto), de forma que no hayan duplicados\n",
        "    odas_shingles[name] = set()\n",
        "\n",
        "    ### y nos concentramos en todos los substrings entre las posiciones i y la i+k+1, para un\n",
        "    ### i que parte desde el inicio del texto\n",
        "\n",
        "    for i in range(len(text) - k+1):\n",
        "        shingle = text[i:i+k]\n",
        "        odas_shingles[name].add(shingle)\n",
        "\n"
      ],
      "metadata": {
        "id": "giQ-hU9yMVgW"
      },
      "execution_count": 14,
      "outputs": []
    },
    {
      "cell_type": "code",
      "source": [
        "print(odas_shingles['alegria'])"
      ],
      "metadata": {
        "colab": {
          "base_uri": "https://localhost:8080/"
        },
        "id": "L48DDaoEbT3M",
        "outputId": "908cdeea-4f7b-41a3-b023-5501ec360313"
      },
      "execution_count": 15,
      "outputs": [
        {
          "output_type": "stream",
          "name": "stdout",
          "text": [
            "{'i q', 'A l', 'én ', 'tus', 'í l', 'o q', 'blo', 'tra', 'ema', 'mad', 'pic', 'y h', 'i p', ' he', 'cas', 'r s', 'l p', ' cl', 'ué ', ' vu', 'rza', 'ngr', 's b', 'árd', 'ún ', 'No ', 'leñ', 'fag', 'tas', 'gus', 'nen', 'ebo', 's e', 'ue ', 'ebe', 'y a', ' me', 'omb', 's, ', 'Déj', 'a, ', ' pa', 'sde', 'o p', 'ugu', ' el', 'lir', 'des', 'é, ', ' ba', ' pu', 'u l', 'den', 'str', ' vo', ', l', 'ra.', 'uan', 'jos', 'es,', 'hos', 'uch', 'ono', 'a e', 'ura', 'ca ', 'tos', 'ind', 'llu', ' ce', 'os.', 'r o', 'spe', ' au', 's l', 'eso', 'os,', 'poe', 'uro', 'cur', 'oy ', ' Vo', ' cu', 'lé ', 'itu', 'se ', ' co', 'ere', 'ame', 'ero', 'a q', 'ejo', 'e t', 'eab', 'ora', ' ay', 'e e', 'lar', 'und', 'ras', 'rra', 'ier', 'ien', ' pr', 'ist', 'slu', 'mar', 'Voy', 'rol', ' mu', 'ólo', ' tu', 'no,', 'ayu', ' mo', 'a n', ' ab', 'end', 'obr', 'ent', 'Los', ' ag', 'ijo', 'ino', 'é m', 'rno', 'lan', 'goc', 'ban', 'ría', ' má', 'mon', 'del', 'ces', 'me ', 'a l', 'pra', 'ra ', 'ie ', 'za,', ':  ', 'ibr', 'era', 'urn', ' te', 'ves', 'mie', 'bra', 'van', 'ert', 'ada', 'tía', 'e u', 'y, ', 'cam', 'guo', ' tr', 'ndi', 'nos', 'e c', 'vec', 'jad', ' is', 'to ', 'alo', ' ve', 'epe', 'to,', 'cer', ' bo', 'no.', 'oli', 's m', 'rro', 'cié', 'amo', 'Hoy', 'spu', 'i a', 'rio', 'o a', ', m', 'o m', 'os ', ' rí', 's p', 's s', 'uos', 'na,', 'u c', 'arr', 'to!', 'son', 'one', 'mi ', 'ga ', 'd r', 'i v', 'o o', 'ego', ' qu', 'llé', 'asa', 'do!', 'gre', ', a', 'dol', 'cab', 'reg', 'o d', 'o! ', 'efa', 'a y', 'ató', 'nda', 'no ', 'í s', 'Equ', ' Al', 'ida', 'ari', 'ad,', 'lit', ' be', ', h', 'ach', ' to', 'da,', 'tem', 's o', ' ar', 'deb', 'yud', ' Co', 's n', 's v', 'scu', 'rac', 'una', '  C', 'ar ', 'ñam', 'deñ', ' ap', 'é q', 'e q', 'ebr', 'adi', 'uni', ' va', ' a ', 'nde', ' ne', 'tu ', 'ell', '.  ', 'ane', 'páñ', '. F', 'gua', ' na', 'úsc', 'en ', 'ío ', 'apr', 'jam', 'e a', ' un', 'epa', ' se', 'olo', 'mun', 'rto', 'eñé', 'aba', 'ída', ' Lo', 'mab', ' ni', 'mpá', 'ja ', 'nza', 'n m', 'ica', 'sto', 'ho ', 'erm', 'sól', 'La ', 'lor', 'rte', 'pag', 'umb', ' Y ', 'áfa', 'hom', 'ran', 'ir ', 'da ', 'n r', 'ria', 'omp', 'dí ', 'dor', ' si', 'egr', 'i d', 'gar', 'rem', 'tig', 'ón ', 'ntr', 'vol', 'ñad', 'ber', 'me.', 'so.', 'nto', 'pas', 'iel', 'jov', 'ust', 'cár', 'aro', 'cim', 'ped', 'go ', 'a d', 'n j', 'lo.', 'zón', 'lla', 'las', 'cap', 'ía.', 'flo', ' su', 'sar', ' lu', ' ro', 'grí', 'eci', 'ro ', 'ale', 'eja', 'rtí', '  A', 'val', 'uie', 'ado', ' re', 'do.', 'n c', 'a v', ' oj', 'esl', 's r', ' fu', 'Com', 'sti', 'rda', 'ios', 'opa', ' de', 'e d', 'pus', 'fui', 'pum', ' Pe', 'Fui', 'pue', 'nor', 'ía ', 'sob', 'mbr', 'iza', 'a f', 'tod', 'tie', 'sa,', 'ara', 'tur', 'ad ', 'cua', 'l v', 'nad', ' le', 're ', 'jab', ' ac', 'nac', 'elo', 'ndí', 'ele', ' ca', 'la,', 'ona', 'se,', 'tri', 'o f', 'mal', 'ó p', 'los', 'r a', 'luc', 'ía,', 'ong', ' Te', 'do ', 'asc', 'oci', 'ro,', 'a u', 's d', 'voq', 'lam', 'mpl', 'n p', 'muc', 'na ', 'ned', 'nti', 'ido', 'erd', 'evó', 'dab', 'qué', 'nid', 'sat', ' fl', 'oga', 'de ', 'dad', 'sej', 'zar', 'men', 'sus', 'on ', 'ás ', 'a b', 'bre', 'rma', 'lie', 'y j', 'isl', ' o ', 'lad', 'el ', 'mo ', 'sol', 'ava', 'nco', ' cá', 'e, ', 'nas', ' al', 'ba ', 'su ', 'o. ', 'osq', 'bir', 'a t', ' li', 'imo', ' Ho', 'eña', 'l a', 'hoj', 'uel', ' ir', 'ste', 'ojo', 'sor', 'n e', 'ia ', 'tan', 'edr', 'esa', 'aso', ' am', 'r c', '! C', 'cal', ', d', ' an', 's y', '. E', ' os', '. A', 'rer', 'rab', ' pi', 'oll', 'tin', 'e m', 'ñé,', 'tir', 'ler', 'mis', 'oy,', 'mpr', 'd, ', ' mí', 'uem', 'per', ' No', 'a. ', 'aug', '!  ', 'rpr', 'o l', 'a m', 'da.', 'ons', ', q', 'er ', 'riz', 'gra', 'plo', 'uda', 'ula', 'y t', 'osc', 'n l', 'nte', 'est', 'tid', ' ti', 'éja', 'cor', ' rá', 'ami', 'Pen', 'teo', 'me:', 'rel', 'oca', 'rre', 'vue', 'l f', 'sé ', 'a r', 'bie', 'ra,', 'ove', 'tor', 'e s', 'pro', 'nes', 'sup', 'or ', 'arc', 'par', 'esp', 'bo ', 'lo ', 'si ', 'sta', 'rep', 'art', 'luv', ' ma', '. L', 'ter', 'dic', 'r d', 'caí', 'te,', 'hal', 'r t', ' pe', 'con', 'boc', 'n n', 's a', '  V', 'pec', 'uma', 'bel', 'oja', 'ire', 'o, ', 'to.', ' en', 'uto', 'jo ', 'ua ', 'a z', ' ll', 'are', 'pe ', ' ho', 'eri', ' la', 'le,', 'min', 'squ', ' lo', 'igo', ' yo', 'oet', ' ju', 'sca', 'ibi', ' po', 'mo,', '  N', 'ráf', 'ten', 's. ', 'r u', '. P', 'sa.', 'arz', 'bro', 'río', 'ver', 'l m', 'Aún', 'pob', 'n t', 'i u', 'pur', 'pre', 'ont', 'e. ', 'ma!', 'fan', '. D', 'us ', 'qui', 'Con', 'eoj', 'nse', 'all', 'lun', 'n b', 'ali', 'inú', 'ron', 'can', 'dal', 'cla', 'o c', 'ha.', 'ndo', 'lle', 'esd', 'jus', 'esc', 'cib', 'ega', 'Te ', 'oro', 'irm', 'lut', 'cit', 'o s', 'e: ', 'ump', 'cha', 'a a', 'ita', 'anz', 'ó s', 'aco', 'n a', 'err', 'ece', 'orp', 'vó ', 'enc', ' jo', 'man', 'reu', 'l t', 'r l', 'is ', 'nim', 'sa ', 'mpa', 'via', 'nta', 'dos', 'lo,', 'cum', 'ris', 'rca', 'lib', 'nsé', 'al ', 'der', 'cij', 'n s', ' y ', 'orm', 'her', 'un ', 'don', 'nús', 'áña', 'lef', 'i c', 'ia.', 'que', ' za', 'diz', 'ueg', ' Dé', 'aci', ' so', 'Ale', 'e b', 'aga', 'cid', 'uiv', 'ui ', ' ha', 'lum', ' bi', 'ren', 'ina', 's h', 'tar', 'rme', 'toc', ' La', 'ivo', 'ueb', 'nec', 'e v', ' mi', 'res', '. T', 'unt', 's i', 'a c', 'zad', 'ama', 'l l', ', p', 'es ', 'hoy', 'bes', '  c', ' Aú', 'tó ', 'cul', 'agu', 'i j', 'rop', 'rec', 'fue', 'ape', ', s', 'ant', 'lav', 'ana', 'rid', 'za ', 'cat', 'omo', 'mbo', 'más', 'e p', 'orq', ' A ', 'e l', 'oqu', 'upe', 'ven', 'rea', 'an ', 'é t', ', y', 'ién', 'uvi', 'l r', 'com', ' ta', 'lej', 'ens', 'imb', 'ena', 'ros', ', e', 'pen', 'ore', 'ade', 'es.', 'eda', 'odo', 'abe', 'o u', 'cad', 'raz', 'sos', 'emo', 'Y c', 'tac', 'ues', 'ebl', 'ato', 'r e', 'tre', 'osa', 'bej', 'aíd', 'mos', 'cos', ', f', 'emp', '  H', 'lev', 'ech', ' es', 'gad', '. N', 'a! ', 'pan', 'neg', ' Fu', 'eta', 'bos', 'use', ' ra', 'tes', 'cho', 'igu', 'azó', 'rqu', 'as ', 'la ', 'moj', ' er', 'lid', 'i m', 'dre', 'y c', 'die', ' só', 'te ', ' Eq', 's c', 'jun', 'mí ', 'hac', 'leg', ' do', 'han', 'oma', 'rde', 'por', 'ano', 'sin', 'and', 'pli', 's t', 'o e', 'a h', 'rad', 'yo ', 'hog', 'sla', 'eun', 'ola', 'o i', 'abi', '. Y'}\n"
          ]
        }
      ]
    },
    {
      "cell_type": "code",
      "source": [
        "### Lo primero es una funcion que calcula la similitud de Jaccard entre dos conjuntos.\n",
        "### Recordemos que se define como la proporcion entre el tamaño de la intersección de los conjuntos,\n",
        "### dividido por el tamaño de su unión.\n",
        "\n",
        "def jaccard_similarity(set1, set2):\n",
        "    # Computa la similitud de Jaccard entre dos sets\n",
        "    intersection = set1.intersection(set2)\n",
        "    union = set1.union(set2)\n",
        "    return len(intersection) / len(union)"
      ],
      "metadata": {
        "id": "7fk1aRmicjr5"
      },
      "execution_count": 16,
      "outputs": []
    },
    {
      "cell_type": "code",
      "source": [
        "### Un par de pruebas:\n",
        "### - La similitud de un conjunto con si mismo debe ser 1\n",
        "### - La similitud de un conjunto con el vacio debe ser cero\n",
        "### - Probamos cuanto es la similitud entre los primeros dos textos.\n",
        "\n",
        "print(jaccard_similarity(odas_shingles['alegria'],odas_shingles['alegria']))\n",
        "print(jaccard_similarity(odas_shingles['alegria'],{}))\n",
        "print(jaccard_similarity(odas_shingles['alegria'],odas_shingles['caldillo']))"
      ],
      "metadata": {
        "colab": {
          "base_uri": "https://localhost:8080/"
        },
        "id": "Zr6BPJcIeKyB",
        "outputId": "217d1109-5a1d-4807-b87e-9dfce826a9a1"
      },
      "execution_count": 17,
      "outputs": [
        {
          "output_type": "stream",
          "name": "stdout",
          "text": [
            "1.0\n",
            "0.0\n",
            "0.3007985803016859\n"
          ]
        }
      ]
    }
  ]
}