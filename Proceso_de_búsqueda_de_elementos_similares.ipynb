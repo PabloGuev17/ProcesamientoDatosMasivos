{
  "nbformat": 4,
  "nbformat_minor": 0,
  "metadata": {
    "colab": {
      "provenance": [],
      "authorship_tag": "ABX9TyPLZwoqapbTRKbQub04ZaKu",
      "include_colab_link": true
    },
    "kernelspec": {
      "name": "python3",
      "display_name": "Python 3"
    },
    "language_info": {
      "name": "python"
    }
  },
  "cells": [
    {
      "cell_type": "markdown",
      "metadata": {
        "id": "view-in-github",
        "colab_type": "text"
      },
      "source": [
        "<a href=\"https://colab.research.google.com/github/PabloGuev17/ProcesamientoDatosMasivos/blob/main/Proceso_de_b%C3%BAsqueda_de_elementos_similares.ipynb\" target=\"_parent\"><img src=\"https://colab.research.google.com/assets/colab-badge.svg\" alt=\"Open In Colab\"/></a>"
      ]
    },
    {
      "cell_type": "markdown",
      "source": [
        "# El proceso de búsqueda de elementos similares\n",
        "\n",
        "En este tutorial vamos a repasar todo el proceso de búsqueda de elementos similares, con el objetivo de buscar, de un conjunto de 10 textos de poesías de Pablo Neruda, cuales son los dos más similares.\n",
        "\n",
        "Destacamos las siguientes etapas.\n",
        "- Shingling. Esto es, transformar el texto a conjuntos. Ya lo hemos demostrado en otro tutorial, pero dejamos el código por continuidad.\n",
        "- Minhashing. Para poder calcular la similitud, computaremos una firma de Minhash de tamaño 5 para cada uno de los conjuntos, en este caso, cada uno de los shingles de los textos.\n",
        "- Comparación de firmas de Minhash para estimar la similitud de Jaccard. Cuando tenemos la firma de minhash para cada texto, nos concentramos en comparar sus firmas de MinHash. Entonces, compararemos con la similitud de Jaccard solo aquellos textos que presenten la misma firma de MinHash."
      ],
      "metadata": {
        "id": "iMhX0Yko-XCo"
      }
    },
    {
      "cell_type": "markdown",
      "source": [
        "En este tutorial se repasa el proceso de busqueda de elementos similares, buscar cuales son los 2 elementos mas silimiares, usando la tecnica de minHash.\n",
        "\n",
        "1era etapa: Shigling donde se transforma el texto a conjunto\n",
        "2da etapa: MinHashing para poder calcular la similitud.\n",
        "3era Etapa: Comparación de firmas de MinHash para estimar la similutd de Jaccard."
      ],
      "metadata": {
        "id": "unTLzoRt-ZgH"
      }
    },
    {
      "cell_type": "markdown",
      "source": [
        "## Shingling\n",
        "\n",
        "La técnica de *k*-shingling consiste en transformar un texto (es decir, un string) a un conjunto formado por todos los substring de tamaño *k* de ese texto, incluyendo espacios y otros caracteres no lexicográficos.\n",
        "\n",
        "Veamos como hacer esto para un conjunto de 10 poesías escritas por Pablo Neruda, parte de su obra de Odas Elementales. *italicized text*"
      ],
      "metadata": {
        "id": "UGrLQZyI_Bge"
      }
    },
    {
      "cell_type": "code",
      "execution_count": 1,
      "metadata": {
        "colab": {
          "base_uri": "https://localhost:8080/"
        },
        "id": "o_DggyQl-GW-",
        "outputId": "c442cd36-bd95-4715-d13c-d7eade9b0132"
      },
      "outputs": [
        {
          "output_type": "stream",
          "name": "stdout",
          "text": [
            "{'alegria': 'Alegría hoja verde caída en la ventana, minúscula claridad recién nacida, elefante sonoro, deslumbrante moneda, a veces ráfaga quebradiza, pero más bien pan permanente, esperanza cumplida, deber desarrollado. Te desdeñé, alegría. Fui mal aconsejado. La luna me llevó por sus caminos. Los antiguos poetas me prestaron anteojos y junto a cada cosa un nimbo oscuro puse, sobre la flor una corona negra, sobre la boca amada un triste beso. Aún es temprano. Déjame arrepentirme. Pensé que solamente si quemaba mi corazón la zarza del tormento, si mojaba la lluvia mi vestido en la comarca cárdena del luto, si cerraba los ojos a la rosa y tocaba la herida, si compartía todos los dolores, yo ayudaba a los hombres. No fui justo. Equivoqué mis pasos y hoy te llamo, alegría.  Como la tierra eres necesaria.  Como el fuego sustentas los hogares.  Como el pan eres pura.  Como el agua de un río eres sonora.  Como una abeja repartes miel volando.  Alegría, fui un joven taciturno, hallé tu cabellera escandalosa.  No era verdad, lo supe cuando en mi pecho desató su cascada.  Hoy, alegría, encontrada en la calle, lejos de todo libro, acompáñame:  contigo quiero ir de casa en casa, quiero ir de pueblo en pueblo, de bandera en bandera. No eres para mí solo. A las islas iremos, a los mares. A las minas iremos, a los bosques. No sólo leñadores solitarios, pobres lavanderas o erizados, augustos picapedreros, me van a recibir con tus racimos, sino los congregados, los reunidos, los sindicatos de mar o madera, los valientes muchachos en su lucha.  Contigo por el mundo! Con mi canto! Con el vuelo entreabierto de la estrella, y con el regocijo de la espuma!  Voy a cumplir con todos porque debo a todos mi alegría.  No se sorprenda nadie porque quiero entregar a los hombres los dones de la tierra, porque aprendí luchando que es mi deber terrestre propagar la alegría. Y cumplo mi destino con mi canto.', 'caldillo': 'En el mar tormentoso de Chile vive el rosado congrio, gigante anguila de nevada carne. Y en las ollas chilenas, en la costa, nació el caldillo grávido y suculento, provechoso. Lleven a la cocina el congrio desollado, su piel manchada cede como un guante y al descubierto queda entonces el racimo del mar, el congrio tierno reluce ya desnudo, preparado para nuestro apetito. Ahora recoges ajos, acaricia primero ese marfil precioso, huele su fragancia iracunda, entonces deja el ajo picado caer con la cebolla y el tomate hasta que la cebolla tenga color de oro. Mientras tanto se cuecen con el vapor los regios camarones marinos y cuando ya llegaron a su punto, cuando cuajó el sabor en una salsa formada por el jugo del océano y por el agua clara que desprendió la luz de la cebolla, entonces que entre el congrio y se sumerja en gloria, que en la olla se aceite, se contraiga y se impregne. Ya sólo es necesario dejar en el manjar caer la crema como una rosa espesa, y al fuego lentamente entregar el tesoro hasta que en el caldillo se calienten las esencias de Chile, y a la mesa lleguen recién casados los sabores del mar y de la tierra para que en ese plato tú conozcas el cielo.', 'feliz': 'Esta vez dejadme ser feliz, nada ha pasado a nadie, no estoy en parte alguna, sucede solamente que soy feliz por los cuatro costados del corazón, andando, durmiendo o escribiendo. Qué voy a hacerle, soy feliz. Soy más innumerable que el pasto en las praderas, siento la piel como un árbol rugoso y el agua abajo, los pájaros arriba, el mar como un anillo en mi cintura, hecha de pan y piedra la tierra el aire canta como una guitarra.  Tú a mi lado en la arena eres arena, tú cantas y eres canto, el mundo es hoy mi alma, canto y arena, el mundo es hoy tu boca, dejadme en tu boca y en la arena ser feliz, ser feliz porque si, porque respiro y porque tú respiras, ser feliz porque toco tu rodilla y es como si tocara la piel azul del cielo y su frescura.  Hoy dejadme a mí solo ser feliz, con todos o sin todos, ser feliz con el pasto y la arena, ser feliz con el aire y la tierra, ser feliz, contigo, con tu boca, ser feliz.', 'libro': 'Libro hermoso, libro, mínimo bosque, hoja tras hoja, huele tu papel a elemento, eres matutino y nocturno, cereal, oceánico, en tus antiguas páginas cazadores de osos, fogatas cerca del Mississippi, canoas en las islas, más tarde caminos y caminos, revelaciones, pueblos insurgentes, Rimbaud como un herido pez sangriento palpitando en el lodo, y la hermosura de la fraternidad, piedra por piedra sube el castillo humano, dolores que entretejen la firmeza, acciones solidarias, libro oculto de bolsillo en bolsillo, lámpara clandestina, estrella roja.  Nosotros los poetas caminantes exploramos el mundo, en cada puerta nos recibió la vida, participamos en la lucha terrestre. Cuál fue nuestra victoria? Un libro, un libro lleno de contactos humanos, de camisas, un libro sin soledad, con hombres y herramientas, un libro es la victoria. Vive y cae como todos los frutos, no sólo tiene luz, no sólo tiene sombra, se apaga, se deshoja, se pierde entre las calles, se desploma en la tierra. Libro de poesía de mañana, otra vez vuelve a tener nieve o musgo en tus páginas para que las pisadas o los ojos vayan grabando huellas: de nuevo descríbenos el mundo los manantiales entre la espesura, las altas arboledas, los planetas polares, y el hombre en los caminos, en los nuevos caminos, avanzando en la selva, en el agua, en el cielo, en la desnuda soledad marina, el hombre descubriendo los últimos secretos, el hombre regresando con un libro, el cazador de vuelta con un libro, el campesino arando con un libro. ', 'mar': 'Aquí en la isla el mar y cuánto mar se sale de sí mismo a cada rato, dice que sí, que no, que no, que no, que no, dice que si, en azul, en espuma, en galope, dice que no, que no. No puede estarse quieto, me llamo mar, repite pegando en una piedra sin lograr convencerla, entonces con siete lenguas verdes de siete perros verdes, de siete tigres verdes, de siete mares verdes, la recorre, la besa, la humedece y se golpea el pecho repitiendo su nombre. Oh mar, así te llamas, oh camarada océano, no pierdas tiempo y agua, no te sacudas tanto, ayúdanos, somos los pequeñitos pescadores, los hombres de la orilla, tenemos frío y hambre eres nuestro enemigo, no golpees tan fuerte, no grites de ese modo, abre tu caja verde y déjanos a todos en las manos tu regalo de plata: el pez de cada día.  Aquí en cada casa lo queremos y aunque sea de plata, de cristal o de luna, nació para las pobres cocinas de la tierra. No lo guardes, avaro, corriendo frío como relámpago mojado debajo de tus olas. Ven, ahora, ábrete y déjalo cerca de nuestras manos, ayúdanos, océano, padre verde y profundo, a terminar un día la pobreza terrestre. Déjanos cosechar la infinita plantación de tus vidas, tus trigos y tus uvas, tus bueyes, tus metales, el esplendor mojado y el fruto sumergido.  Padre mar, ya sabemos cómo te llamas, todas las gaviotas reparten tu nombre en las arenas: ahora, pórtate bien, no sacudas tus crines, no amenaces a nadie, no rompas contra el cielo tu bella dentadura, déjate por un rato de gloriosas historias, danos a cada hombre, a cada mujer y a cada niño, un pez grande o pequeño cada día. Sal por todas las calles del mundo a repartir pescado y entonces grita, grita para que te oigan todos los pobres que trabajan y digan, asomando a la boca de la mina: \"Ahí viene el viejo mar repartiendo pescado\". Y volverán abajo, a las tinieblas, sonriendo, y por las calles y los bosques sonreirán los hombres y la tierra con sonrisa marina. Pero si no lo quieres, si no te da la gana, espérate, espéranos, lo vamos a pensar, vamos en primer término a arreglar los asuntos humanos, los más grandes primero, todos los otros después, y entonces entraremos en ti, cortaremos las olas con cuchillo de fuego, en un caballo eléctrico saltaremos la espuma, cantando nos hundiremos hasta tocar el fondo de tus entrañas, un hilo atómico guardará tu cintura, plantaremos en tu jardín profundo plantas de cemento y acero, te amarraremos pies y manos, los hombres por tu piel pasearán escupiendo, sacándote racimos, construyéndote arneses, montándote y domándote dominándote el alma. Pero eso será cuando los hombres hayamos arreglado nuestro problema, el grande, el gran problema. Todo lo arreglaremos poco a poco: te obligaremos, mar, te obligaremos, tierra, a hacer milagros, porque en nosotros mismos, en la lucha, está el pez,  está el pan, está el milagro. ', 'poetas': 'Poetas naturales de la tierra, escondidos en surcos, cantando en las esquinas, ciegos de callejón, oh trovadores de las praderas y los almacenes, si al agua comprendiéramos tal vez corno vosotros hablaría, si las piedras dijeran su lamento o su silencio, con vuestra voz, hermanos, hablarían. Numerosos sois, como las raíces. En el antiguo corazón del pueblo habéis nacido y de allí viene vuestra voz sencilla. Tenéis la jerarquía del silencioso cántaro de greda perdido en los rincones, de pronto canta cuando se desborda y es sencillo su canto, es sólo tierra y agua.  Así quiero que canten mis poemas, que lleven tierra y agua, fertilidad y canto, a todo el mundo. Por eso, poetas de mi pueblo, saludo la antigua luz que sale de la tierra. El eterno hilo en que se juntaron pueblo y poesía, nunca se cortó este profundo hilo de piedra, viene desde tan lejos como la memoria del hombre. Vio con los ojos ciegos de los vates nacer la tumultuosa primavera, la sociedad humana, el primer beso, y en la guerra cantó sobre la sangre, allí estaba mi hermano barba roja, cabeza ensangrentada y ojos ciegos, con su lira, allí estaba cantando entre los muertos, Homero se llamaba o Pastor Pérez, o Reinaldo Donoso. Sus endechas eran allí y ahora un vuelo blanco, una paloma, eran la paz, la rama del árbol del aceite, y la continuidad de la hermosura. Más tarde los absorbió la calle, la campiña, los encontré cantando entre las reses, en la celebración del desafío, relatando las penas de los pobres, llevando las noticias de las inundaciones, detallando las ruinas del incendio o la noche nefanda de los asesinatos.  Ellos, los poetas de mi pueblo, errantes, pobres entre los pobres, sostuvieron sobre sus canciones la sonrisa, criticaron con sorna a los explotadores, contaron la miseria del minero y el destino implacable del soldado. Ellos, los poetas del pueblo, con guitarra harapienta y ojos conocedores de la vida, sostuvieron en su canto una rosa y la mostraron en los callejones para que se supiera que la vida no será siempre triste. Payadores, poetas humildemente altivos, a través de la historia y sus reveses, a través de la paz y de la guerra, de la noche y la aurora, sois vosotros los depositarios, los tejedores de la poesía, y ahora aquí en mi patria está el tesoro, el cristal de Castilla, la soledad de Chile, la pícara inocencia, y la guitarra contra el infortunio, la mano solidaria en el camino, la palabra repetida en el canto y transmitida, la voz de piedra y agua entre raíces, la rapsodia del viento, la voz que no requiere librerías, todo lo que debemos aprender los orgullosos: con la verdad del pueblo la eternidad del canto. ', 'tiempo': 'Dentro de ti tu edad creciendo, dentro de mí mi edad andando. El tiempo es decidido, no suena su campana, se acrecienta, camina, por dentro de nosotros, aparece como un agua profunda en la mirada y junto a las castañas quemadas de tus ojos una brizna, la huella de un minúsculo rio, una estrellita seca ascendiendo a tu boca. Sube el tiempo sus hilos a tu pelo, pero en mi corazón como una madreselva es tu fragancia, viviente como el fuego. Es bello como lo que vivimos envejecer viviendo. Cada dia fue piedra transparente, cada noche para nosotros fue una rosa negra, y este surco en tu rostro o en el mío son piedra o flor, recuerdo de un relámpago. Mis ojos se han gastado en tu hermosura, pero tú eres mis ojos. Yo fatigué tal vez bajo mis besos tu pecho duplicado, pero todos han visto en mi alegría tu resplandor secreto. Amor, qué importa que el tiempo, el mismo que elevó como dos llamas o espigas paralelas mi cuerpo y tu dulzura, mañana los mantenga o los desgrane y con sus mismos dedos invisibles borre la identidad que nos separa dándonos la victoria de un solo ser final bajo la tierra. ', 'tristeza': 'Tristeza, escarabajo de siete patas rotas, huevo de telaraña, rata descalabrada, esqueleto de perra: Aquí no entras. No pasas. Ándate. Vuelve al Sur con tu paraguas, vuelve al Norte con tus dientes de culebra. Aquí vive un poeta. La tristeza no puede entrar por estas puertas. Por las ventanas entra el aire del mundo, las rojas rosas nuevas, las banderas bordadas del pueblo y sus victorias. No puedes. Aquí no entras. Sacude tus alas de murciélago, yo pisaré las plumas que caen de tu manto, yo barreré los trozos de tu cadáver hacia las cuatro puntas del viento, yo te torceré el cuello, te coseré los ojos, cortaré tu mortaja y enterraré tus huesos roedores bajo la primavera de un manzano. ', 'valparaiso': 'Valparaíso, qué disparate eres, qué loco, puerto loco, qué cabeza con cerros, desgreñada, no acabas de peinarte, nunca tuviste tiempo de vestirte, siempre te sorprendió la vida, te despertó la muerte, en camisa, en largos calzoncillos con flecos de colores, desnudo con un nombre tatuado en la barriga, y con sombrero, te agarró el terremoto, corriste enloquecido, te quebraste las uñas, se movieron las aguas y las piedras, las veredas, el mar, la noche, tú dormías en tierra, cansado de tus navegaciones, y la tierra, furiosa, levantó su oleaje más tempestuoso que el vendaval marino, el polvo te cubría los ojos, las llamas quemaban tus zapatos, las sólidas casas de los banqueros trepidaban como heridas ballenas, mientras arriba las casas de los pobres saltaban al vacio como aves prisioneras que probando las alas se desploman.  Pronto, Valparaíso, marinero, te olvidas de las lágrimas, vuelves a colgar tus moradas, a pintar puertas verdes, ventanas amarillas, todo lo transformas en nave, eres la remendada proa de un pequeño, valeroso navío. La tempestad corona con espuma tus cordeles que cantan y la luz del océano hace temblar camisas y banderas en tu vacilación indestructible.  Estrella oscura eres de lejos, en la altura de la costa resplandeces y pronto entregas tu escondido fuego, el vaivén de tus sordos callejones, el desenfado de tu movimiento, la claridad de tu marinería. Aquí termino, es esta oda, Valparaíso, tan pequeña como una camiseta desvalida, colgando en tus ventanas harapientas meciéndose en el viento del océano, impregnándose de todos los dolores de tu suelo, recibiendo el rocío de los mares, el beso del ancho mar colérico que con toda su fuerza golpeándose en tu piedra no pudo derribarte, porque en tu pecho austral están tatuadas la lucha, la esperanza, la solidaridad y la alegría como anclas que resisten las olas de la tierra. ', 'vino': 'Vino color de día, vino color de noche, vino con pies de púrpura o sangre de topacio, vino, estrellado hijo de la tierra, vino, liso como una espada de oro, suave como un desordenado terciopelo, vino encaracolado y suspendido, amoroso, marino, nunca has cabido en una copa, en un canto, en un hombre, coral, gregario eres, y cuando menos, mutuo. A veces te nutres de recuerdos mortales, en tu ola vamos de tumba en tumba, picapedrero de sepulcro helado, y lloramos lágrimas transitorias, pero tu hermoso traje de primavera es diferente, el corazón sube a las ramas, el viento mueve el día, nada queda dentro de tu alma inmóvil. El vino mueve la primavera, crece como una planta la alegría, caen muros, peñascos, se cierran los abismos, nace el canto. Oh tú, jarra de vino, en el desierto con la sabrosa que amo, dijo el viejo poeta. Que el cántaro de vino al beso del amor sume su beso.  Amor mio, de pronto tu cadera es la curva colmada de la copa, tu pecho es el racimo, la luz del alcohol tu cabellera, las uvas tus pezones, tu ombligo sello puro estampado en tu vientre de vasija, y tu amor la cascada de vino inextinguible, la claridad que cae en mis sentidos, el esplendor terrestre de la vida.  Pero no sólo amor, beso quemante o corazón quemado eres, vino de vida, sino amistad de los seres, transparencia, coro de disciplina, abundancia de flores. Amo sobre una mesa, cuando se habla, la luz de una botella de inteligente vino. Que lo beban, que recuerden en cada gota de oro o copa de topacio o cuchara de púrpura que trabajó el otoño hasta llenar de vino las vasijas y aprenda el hombre oscuro, en el ceremonial de su negocio, a recordar la tierra y sus deberes, a propagar el cántico del fruto. '}\n"
          ]
        }
      ],
      "source": [
        "### Para almacenar los distintos textos creamos un diccionario.\n",
        "odas = {}\n",
        "\n",
        "### Vamos a subir cada texto indexado por un keyword distinto en este diccionario.\n",
        "### Para hacerlos más legibles, reemplazamos los fin de línea por un espacio.\n",
        "\n",
        "with open(\"oda_alegria.txt\", \"r\") as file:\n",
        "    text = file.read().replace('\\n', ' ')\n",
        "odas['alegria']=text\n",
        "\n",
        "with open(\"oda_caldillo.txt\", \"r\") as file:\n",
        "    text = file.read().replace('\\n', ' ')\n",
        "odas['caldillo']=text\n",
        "\n",
        "with open(\"oda_feliz.txt\", \"r\") as file:\n",
        "    text = file.read().replace('\\n', ' ')\n",
        "odas['feliz']=text\n",
        "\n",
        "with open(\"oda_libro.txt\", \"r\") as file:\n",
        "    text = file.read().replace('\\n', ' ')\n",
        "odas['libro']=text\n",
        "\n",
        "with open(\"oda_mar.txt\", \"r\") as file:\n",
        "    text = file.read().replace('\\n', ' ')\n",
        "odas['mar']=text\n",
        "\n",
        "with open(\"oda_poetas.txt\", \"r\") as file:\n",
        "    text = file.read().replace('\\n', ' ')\n",
        "odas['poetas']=text\n",
        "\n",
        "with open(\"oda_tiempo.txt\", \"r\") as file:\n",
        "    text = file.read().replace('\\n', ' ')\n",
        "odas['tiempo']=text\n",
        "\n",
        "with open(\"oda_tristeza.txt\", \"r\") as file:\n",
        "    text = file.read().replace('\\n', ' ')\n",
        "odas['tristeza']=text\n",
        "\n",
        "\n",
        "with open(\"oda_valparaiso.txt\", \"r\") as file:\n",
        "    text = file.read().replace('\\n', ' ')\n",
        "odas['valparaiso']=text\n",
        "\n",
        "\n",
        "with open(\"oda_vino.txt\", \"r\") as file:\n",
        "    text = file.read().replace('\\n', ' ')\n",
        "odas['vino']=text\n",
        "\n",
        "### Como vemos, el resultado es que cada uno de estos textos es un string,\n",
        "### indexado en el diccionario por un keyword diferente.\n",
        "\n",
        "print(odas)"
      ]
    },
    {
      "cell_type": "code",
      "source": [
        "### El siguiente pedazo de código genera un diccionario, indexado bajo los mismos keywords que los textos,\n",
        "### En este diccionario almacenamos el resultado de hacer k-shingling en el texto.\n",
        "\n",
        "### Probemos con k = 3\n",
        "\n",
        "odas_shingles = {}\n",
        "k = 3\n",
        "\n",
        "### iteramos sobre todas las odas\n",
        "for (name,text) in odas.items():\n",
        "\n",
        "    ### Es importante declarar los shingles como un set (conjunto), de forma que no hayan duplicados\n",
        "    odas_shingles[name] = set()\n",
        "\n",
        "    ### y nos concentramos en todos los substrings entre las posiciones i y la i+k+1, para un\n",
        "    ### i que parte desde el inicio del texto\n",
        "\n",
        "    for i in range(len(text) - k-1):\n",
        "        shingle = text[i:i+k]\n",
        "        odas_shingles[name].add(shingle)\n"
      ],
      "metadata": {
        "id": "LGz0QCBu_NY9"
      },
      "execution_count": 2,
      "outputs": []
    },
    {
      "cell_type": "code",
      "source": [
        "### Este es el resultado de hacer shingling al primer texto, la Oda a la Alegría.\n",
        "\n",
        "print(odas_shingles['alegria'])"
      ],
      "metadata": {
        "colab": {
          "base_uri": "https://localhost:8080/"
        },
        "id": "9l_bGA3c_SWZ",
        "outputId": "f34a9083-29d1-447a-b94b-9314a8157e32"
      },
      "execution_count": 3,
      "outputs": [
        {
          "output_type": "stream",
          "name": "stdout",
          "text": [
            "{'res', 'yud', 'ejo', 'ebl', ' is', 'edr', 'ces', 'tó ', 'ra,', ' va', 'dic', ' so', 'qui', 'pli', 'sol', 'n j', 'e. ', 'tac', ' am', 'n t', 'en ', 'aro', 'ped', ' me', 'os.', 'son', 'nta', 'ibi', 'do ', 'pic', ' ra', 'ona', 'grí', 'cur', 'cam', ' fu', 'las', ' fl', 'can', 'sa ', ' ni', 'a! ', 'Ale', 'ó s', 'Hoy', ' Co', ' ba', ' rí', 'leñ', 'aíd', 'nte', 'mar', 'ntr', 'ras', 'anz', 'don', 'ana', 'sla', 'e t', 'ria', '  H', 'No ', 'e q', 'ven', 'dal', ' ll', 'mal', 'ron', 'a d', 'abe', 'sti', 'la ', 'tra', 'bes', 'sto', 'a. ', 'goc', 'zad', 's v', 'rea', 'ach', 'sé ', 'í s', 'aga', 'ro,', 'ado', ', s', 'mpr', ' cá', 'her', 'ere', 'e u', 'los', 'ros', 'nad', 'evó', 'nto', 'adi', 'bel', 'o q', ' Fu', 'es.', ' bi', 'nde', ' Y ', 'bro', 'e: ', ' le', 'eri', 'o m', 'Los', 'is ', 'rtí', 'cer', 'ura', 'caí', 'enc', 'tes', 'apr', ' oj', 'ato', 'hom', 'erd', 'e l', 'ano', 'ueg', 'via', 'uos', 'i p', 'pob', 'y, ', 'min', 'e s', ' un', 'ngr', 'bo ', 'ue ', 'ndí', 'lut', 'ono', 'efa', 'cat', 'ari', 'go ', 'ía,', 'nen', 'éja', 'o u', 'aug', 'plo', 'ia ', 'aba', 'nsé', 'inú', 'iza', 'a q', 'a u', 'leg', 'par', 'a z', 'mad', ' pr', 'lle', 'ore', 'man', 'rre', 'o a', 'ie ', 'ra.', 'ñé,', ' ve', 'val', 'cha', 'rem', 'rqu', 'irm', ' ab', 'sta', 'n a', 'an ', 'e, ', 're ', 'ibr', 'emp', 'aso', 'tur', 'poe', 'or ', 'est', 'amo', 'dos', 'pe ', 'páñ', 'vó ', '  c', 'ens', 'Y c', 'so.', 'pre', 'luc', 'ja ', 's o', 'voq', 'com', 'nas', 'esc', 'opa', 'ind', ' La', 'gar', 'ñad', 'cum', 'cid', 'ebe', 'jos', 'oll', 'ido', 'rid', 'ha.', 'hoy', 'y t', '! C', 'orq', ' re', 'le,', ' só', 'ás ', 'der', 'ves', 'ar ', 'se,', 'and', 'rme', ', l', 'ula', 'spe', ' pa', 'die', 'eso', 'dol', 'use', 'ama', 'cap', 'scu', 'ó p', 'd, ', 'hac', 'mun', 's a', 'jus', 'asa', 'ios', 'rro', 'bie', 'da ', 'lad', 'rac', ' mu', 'aci', 'mos', 'lor', 'alo', 'ueb', 'diz', 'dab', 'uvi', 'es ', 'fag', 'lid', ' rá', 'uan', 's b', 'tig', 'nse', 'hal', 'r d', 'arz', 'más', 'ién', 'esl', ', m', ' he', 'o d', 'por', 'imo', 'art', 'do.', 'i m', 'nti', 'eun', 'é q', 'sej', 'olo', 'uel', 'r t', 'uda', 'n b', 'lef', 'nid', 'str', 'Te ', 'r l', 's c', 'y j', ' má', 'Voy', ' mo', 'lie', 'La ', 'sos', 'fue', 'ina', 'ust', ' te', 'a b', 'nda', 'sus', 'ida', 'vol', ' vo', 'qué', ', y', 's h', 'e p', 'a t', 'orm', 'ad,', 'ía ', 'a y', 'abi', 'ivo', 'uto', 'é, ', 'ató', 'osa', ' pe', 'ber', 'nec', ' su', 'su ', 'ola', 'pag', 'e d', 'neg', 's l', 'rec', 'lit', 'oro', 'eab', 'muc', 'dad', 'pus', 'lo,', 'cib', 'upe', 'Déj', 'ali', 'ólo', 'egr', ' bo', 's y', 'u l', ' cu', 'ten', 'bre', 'uie', 'n r', 'no.', 'a v', 'vue', 'o f', ' lu', 'jam', ' ro', 's, ', 'rno', 'flo', 'ir ', 'n n', ' ma', '.  ', ' ap', ' do', 'eja', 'da,', 'era', 'cla', 'itu', ' Aú', 'ráf', 'arc', 'mpá', 'yo ', ' ce', 'o i', ' to', 'ont', 'men', 'o c', ', q', 'dre', 'squ', 'da.', 'dí ', 'mbr', 'sar', 'te ', ' ta', 'l m', 'und', 'la,', 'me:', 'ien', 'fui', '. L', ' po', 'r u', ' ag', ' Vo', 'én ', 'ca ', 'esa', 'un ', 'orp', 'ua ', 'bos', 'i a', 'que', 'ndo', 'rer', 'o e', '!  ', 'i q', 'nac', ' qu', 'rpr', 'rde', ' Al', 'to!', 'guo', 'lun', ' ti', 'rop', ' al', 'ape', ' er', 'ída', 'mab', 'ro ', 'ho ', 'dor', ' mi', ' A ', 'bej', 'ega', 'ues', 'ump', ' Te', 'al ', 'pra', 'des', ' Eq', 'jab', 'are', 'tu ', 'cab', 'tod', 'reu', ' de', 'to,', 'árd', 'A l', 'ste', 'oga', 'Aún', 'y h', ' a ', 'tem', 'hog', ' mí', 'esp', 'gad', 'l a', 'ino', 'epe', 'cas', 'n c', 'ba ', 'o o', 'o! ', 'jo ', ' tu', 'tor', 'mpa', 'e v', 'ece', 'el ', 'pro', 'e e', 'ent', 'nza', 'rca', 'r o', 'eta', 'n m', 'os,', 'ong', 'vec', ' ha', 'cié', 'ero', 'cit', ' na', 'lan', 'sup', 'tos', 'luv', 'eci', ' la', 'one', 'rte', 'hos', 'ier', 'ún ', ', e', 'í l', 'erm', 'pum', 'mo ', 'uem', 'uiv', 'e a', 'oqu', ' yo', 'cal', 'eñé', 'all', 'deb', 'uch', 'omp', 'cij', ' ir', 'nco', 'ist', '. P', 'r a', 'rza', 'tar', '. D', 'llé', 'oja', 'sa.', 'to.', 'rab', 'n p', 'ban', 'sin', 'o. ', 'osq', 'tri', 'omo', 'asc', 'ara', 'lo.', 'a, ', 'se ', 'úsc', 'sa,', 'no,', 'i j', 'é m', 'ga ', 'oy,', ', p', 'ran', 'sob', 'to ', 'i c', 'ego', 'i v', 'jad', 'cua', 'río', 'oci', 'bir', 'jov', 'oet', ', h', 's d', 'del', ' ar', 'mo,', 'unt', 'ter', 'isl', 'áfa', 'gre', ' y ', 'tie', 'rel', 'oli', 'r e', 'lib', 'pue', 'esd', 'tid', 'tía', 'fan', ' co', ' Pe', 'rto', '. E', 'gra', 'rad', 'nos', '. F', 'umb', 'epa', 'ebr', 'eña', 'moj', 'tas', 'a a', 'cul', ' be', 'van', ' li', 'o p', 'pur', 'gua', 'osc', 'nús', 'cor', 'a c', 'a l', 'a r', 'no ', 'tir', 'ant', '  N', 'den', 'gus', 'me ', 'ebo', 'r c', 'urn', 'emo', 'do!', ' es', 'cos', ' au', 'mon', 'uro', 'riz', 'rma', 'ui ', 'boc', 'ayu', 'lum', 'spu', 'es,', 's r', 'lej', 'nor', 'za,', 'per', 'nim', 'ell', ' ca', 'a h', 'lev', 'mpl', 'ons', 'l l', ', f', ' o ', 'te,', 'ndi', 'zón', ' ho', 'zar', 'agu', 'tus', 'ame', 'slu', 'mi ', 'ijo', 'ren', 'imb', 'ove', 'rda', 'blo', 'jun', 'de ', 'sca', 'ra ', 'o s', 'oca', 'ora', 'si ', ' Dé', 'y c', 'Pen', ' jo', 'uni', 's. ', 'eoj', 'lla', 's e', 'cad', 'ad ', 'mí ', ' No', 'ert', 's p', 'Con', 'e m', 'd r', 'pas', 'sól', ', d', ' Ho', 'elo', 'err', ' pu', 'o l', ' ju', 'han', 'Equ', 'ver', 'eda', 'igu', 'pen', 'raz', 'ñam', 'deñ', 'l f', 'ugu', 'ica', 'lir', 'sde', 'ita', ' lo', 'za ', 'us ', 'cho', 's s', 'obr', 'oma', 'ech', 'on ', 'ría', 'a m', 'ane', 'ón ', 'e b', 'una', 'ia.', 'y a', 'ema', 'nes', 'rep', 'n l', 'Com', 'ojo', 'mie', 'rol', ':  ', 'e c', ' en', ' za', 'ale', 'igo', 'aco', 'teo', ' pi', 'i d', ' an', 'é t', 'u c', 'ire', 'iel', ' ay', 'oy ', '  C', 'tin', 'lar', 'o, ', 'l p', 'reg', 'ma!', '  A', 'me.', ' cl', 'ué ', 'llu', 'sat', 'bra', 'tan', 'ami', 'cár', 'as ', 'ía.', ' ac', 'n e', 'áña', ' vu', 'mis', 'lam', 'ada', 'lo ', 'Fui', 'a n', 'r s', 'a f', 'i u', 'con', 'mbo', 'uma', 'na,', 'hoj', '. N', 'er ', 's n', 'sor', 'odo', ' ne', 's i', 'ele', '. T', 's m', 'ava', 'l v', 'ena', '  V', 'n s', 'pec', 'cim', 'ade', 'toc', 'ler', 'omb', 'ned', 'arr', ', a', 'end', ' os', 'rra', 'os ', 'pan', ' Lo', 'na ', 'l t', 'ío ', 'tre', 'a e', ' se', 's t', 'l r', 'ris', '. Y', 'rio', ' el', '. A', 'lé ', ' si', 'lav', ' tr', 'azó'}\n"
          ]
        }
      ]
    },
    {
      "cell_type": "markdown",
      "source": [
        "## Jaccard Similarity\n",
        "\n",
        "Vamos a comparar cual de estas 10 odas es la más parecida entre sí, según la similitud de Jaccard."
      ],
      "metadata": {
        "id": "-orsasct_Vg4"
      }
    },
    {
      "cell_type": "code",
      "source": [
        "### Lo primero es una funcion que calcula la similitud de Jaccard entre dos conjuntos.\n",
        "### Recordemos que se define como la proporcion entre el tamaño de la intersección de los conjuntos,\n",
        "### dividido por el tamaño de su unión.\n",
        "\n",
        "def jaccard_similarity(set1, set2):\n",
        "    # Computa la similitud de Jaccard entre dos sets\n",
        "    intersection = set1.intersection(set2)\n",
        "    union = set1.union(set2)\n",
        "    return len(intersection) / len(union)"
      ],
      "metadata": {
        "id": "ZwTpofBN_WEg"
      },
      "execution_count": 4,
      "outputs": []
    },
    {
      "cell_type": "code",
      "source": [
        "### Un par de pruebas:\n",
        "### - La similitud de un conjunto con si mismo debe ser 1\n",
        "### - La similitud de un conjunto con el vacio debe ser cero\n",
        "### - Probamos cuanto es la similitud entre los primeros dos textos.\n",
        "\n",
        "print(jaccard_similarity(odas_shingles['alegria'],odas_shingles['alegria']))\n",
        "print(jaccard_similarity(odas_shingles['alegria'],{}))\n",
        "print(jaccard_similarity(odas_shingles['alegria'],odas_shingles['caldillo']))"
      ],
      "metadata": {
        "colab": {
          "base_uri": "https://localhost:8080/"
        },
        "id": "ZnSwAiZT_XrR",
        "outputId": "e578393c-3871-42da-9c58-3e26f6d30661"
      },
      "execution_count": 5,
      "outputs": [
        {
          "output_type": "stream",
          "name": "stdout",
          "text": [
            "1.0\n",
            "0.0\n",
            "0.2990239574090506\n"
          ]
        }
      ]
    },
    {
      "cell_type": "markdown",
      "source": [
        "Ahora vamos a calcular la similitud para todas las $10 \\choose 2$ combinaciones.\n",
        "El resultado irá a una matriz de 10x10, donde la entrada $[i][j]$ es el valor\n",
        "de la similitud entre la i-ésima oda y la j-ésima oda."
      ],
      "metadata": {
        "id": "jXKiIa_u_gza"
      }
    },
    {
      "cell_type": "code",
      "source": [
        "### Armamos la matriz\n",
        "\n",
        "n = len(odas_shingles)\n",
        "similarity_matrix = [[0 for i in range(n)] for j in range(n)]\n",
        "\n",
        "### con esto podemos usar names[i] para conseguir el nombre de la i-esima oda.\n",
        "names = list(odas_shingles.keys())\n",
        "\n",
        "### Llenamos la matriz\n",
        "for i in range(n):\n",
        "    for j in range(n):\n",
        "        if i != j:\n",
        "            similarity = jaccard_similarity(odas_shingles[names[i]], odas_shingles[names[j]])\n",
        "            similarity_matrix[i][j] = similarity\n",
        "\n",
        "for row in similarity_matrix:\n",
        "    print(row)\n"
      ],
      "metadata": {
        "colab": {
          "base_uri": "https://localhost:8080/"
        },
        "id": "3beB8XoW_iVu",
        "outputId": "99ab8aed-36a9-4d71-8113-3aa291fc04aa"
      },
      "execution_count": 6,
      "outputs": [
        {
          "output_type": "stream",
          "name": "stdout",
          "text": [
            "[0, 0.2990239574090506, 0.2569778633301251, 0.32940185341196293, 0.3416726233023588, 0.34425036390101893, 0.3205357142857143, 0.2358036573628489, 0.3596138374899437, 0.3537190082644628]\n",
            "[0.2990239574090506, 0, 0.2616136919315403, 0.2898120672601385, 0.309640522875817, 0.3119266055045872, 0.3041125541125541, 0.23774509803921567, 0.3233644859813084, 0.33463796477495106]\n",
            "[0.2569778633301251, 0.2616136919315403, 0, 0.24160346695557963, 0.27088830255057167, 0.2533215234720992, 0.28308823529411764, 0.23121387283236994, 0.2406311637080868, 0.25494276795005205]\n",
            "[0.32940185341196293, 0.2898120672601385, 0.24160346695557963, 0, 0.3187403993855607, 0.3325434439178515, 0.3111332007952286, 0.2600896860986547, 0.33507853403141363, 0.3114463176574978]\n",
            "[0.3416726233023588, 0.309640522875817, 0.27088830255057167, 0.3187403993855607, 0, 0.3537832310838446, 0.2985553772070626, 0.24171029668411867, 0.3649253731343284, 0.3575248281130634]\n",
            "[0.34425036390101893, 0.3119266055045872, 0.2533215234720992, 0.3325434439178515, 0.3537832310838446, 0, 0.30484798685291703, 0.24597495527728086, 0.3639120545868082, 0.35742035742035744]\n",
            "[0.3205357142857143, 0.3041125541125541, 0.28308823529411764, 0.3111332007952286, 0.2985553772070626, 0.30484798685291703, 0, 0.24092009685230023, 0.3140495867768595, 0.35063663075416257]\n",
            "[0.2358036573628489, 0.23774509803921567, 0.23121387283236994, 0.2600896860986547, 0.24171029668411867, 0.24597495527728086, 0.24092009685230023, 0, 0.24346076458752516, 0.22949117341640707]\n",
            "[0.3596138374899437, 0.3233644859813084, 0.2406311637080868, 0.33507853403141363, 0.3649253731343284, 0.3639120545868082, 0.3140495867768595, 0.24346076458752516, 0, 0.3613013698630137]\n",
            "[0.3537190082644628, 0.33463796477495106, 0.25494276795005205, 0.3114463176574978, 0.3575248281130634, 0.35742035742035744, 0.35063663075416257, 0.22949117341640707, 0.3613013698630137, 0]\n"
          ]
        }
      ]
    },
    {
      "cell_type": "markdown",
      "source": [
        "En este caso lo podemos hacer de forma sencilla, ya que son solo 10 textos pequeños. Cuando la cantidad de conjuntos es muy grande, probar para todas las combinaciones es muy costoso, y debemos usar MinHashing.\n",
        "\n",
        "Para terminar, veamos cuales dos odas son las mas similares."
      ],
      "metadata": {
        "id": "lPYOA0YE_kVz"
      }
    },
    {
      "cell_type": "code",
      "source": [
        "maximo = 0\n",
        "for i in range(n):\n",
        "    for j in range(n):\n",
        "        valor = similarity_matrix[i][j]\n",
        "        if maximo < valor:\n",
        "            i_max = i\n",
        "            j_max = j\n",
        "            maximo = valor\n",
        "print(i_max,j_max,maximo)"
      ],
      "metadata": {
        "colab": {
          "base_uri": "https://localhost:8080/"
        },
        "id": "m2C1-wOd_l6V",
        "outputId": "2d721313-72c1-436a-eb42-610f595d31da"
      },
      "execution_count": 7,
      "outputs": [
        {
          "output_type": "stream",
          "name": "stdout",
          "text": [
            "4 8 0.3649253731343284\n"
          ]
        }
      ]
    },
    {
      "cell_type": "code",
      "source": [
        "names[4],names[8]"
      ],
      "metadata": {
        "colab": {
          "base_uri": "https://localhost:8080/"
        },
        "id": "JqAD2vYO_nH5",
        "outputId": "8228b2d3-fe1e-4fa3-9226-b8e301776e33"
      },
      "execution_count": 8,
      "outputs": [
        {
          "output_type": "execute_result",
          "data": {
            "text/plain": [
              "('mar', 'valparaiso')"
            ]
          },
          "metadata": {},
          "execution_count": 8
        }
      ]
    },
    {
      "cell_type": "markdown",
      "source": [
        "## Minhashing\n",
        "\n",
        "Para calcular las firmas de minhash, vamos a usar cuatro funciones de hash, las que intuitivamente jugarán el rol de una permutación de la matriz de elementos.\n",
        "Veamos primero que funciones de hash podemos usar. Estas derivan de usar la operación módulo (%), y tienen la ventaja de que simulan permutaciones de la matriz de elementos - conjuntos: $h(i)$ nos dice en que orden está la fila $i$ en la permutación."
      ],
      "metadata": {
        "id": "8h-lIL0a_o_T"
      }
    },
    {
      "cell_type": "code",
      "source": [
        "### Contamos la cantidad de elementos totales que tenemos,\n",
        "### como el tamaño de la union de todos los conjuntos de shingles.\n",
        "\n",
        "un = set()\n",
        "for (name,shingle) in odas_shingles.items():\n",
        "        un = un.union(shingle)\n",
        "\n",
        "print(len(un))"
      ],
      "metadata": {
        "colab": {
          "base_uri": "https://localhost:8080/"
        },
        "id": "Aoh8mTrq_pnx",
        "outputId": "e398a211-cd23-47a2-b8f0-c29d7b35ab8e"
      },
      "execution_count": 9,
      "outputs": [
        {
          "output_type": "stream",
          "name": "stdout",
          "text": [
            "2349\n"
          ]
        }
      ]
    },
    {
      "cell_type": "markdown",
      "source": [
        "La matriz de elementos tiene, entonces, 2349 filas. Las permutaciones serán funciones que transformen números entre\n",
        "0 y 2348 a numeros entre 0 y 2348. Definimos 5 de estas funciones, aunque podría ser cualquier función de hash."
      ],
      "metadata": {
        "id": "opWjtCdKBr33"
      }
    },
    {
      "cell_type": "code",
      "source": [
        "def h0(n):\n",
        "    return (n+4) % 2349\n",
        "def h1(n):\n",
        "    return (2*n+1) % 2349\n",
        "def h2(n):\n",
        "    return (2*n) % 2349\n",
        "def h3(n):\n",
        "    return (3*n+300) % 2349\n",
        "def h4(n):\n",
        "    return (n+1000) % 2349\n"
      ],
      "metadata": {
        "id": "HVpWoMxQBuDS"
      },
      "execution_count": 10,
      "outputs": []
    },
    {
      "cell_type": "markdown",
      "source": [
        "Residuo = Dividendo -(Cociente Entero x Divisor)\n"
      ],
      "metadata": {
        "id": "mx9oEYFwFUwL"
      }
    },
    {
      "cell_type": "code",
      "source": [
        "### Veamos algunos ejemplos. En estas funciones, la antigua fila 1 sería la siguiente fila en la permutación:\n",
        "\n",
        "print(h0(1),h1(1),h2(1),h3(1),h4(1))"
      ],
      "metadata": {
        "colab": {
          "base_uri": "https://localhost:8080/"
        },
        "id": "5sSU1wjAFZWE",
        "outputId": "26d579c5-81d3-4f74-c9a1-8305ae529062"
      },
      "execution_count": 11,
      "outputs": [
        {
          "output_type": "stream",
          "name": "stdout",
          "text": [
            "5 3 2 303 1001\n"
          ]
        }
      ]
    },
    {
      "cell_type": "code",
      "source": [
        "### Y la antigua fila 100 sería la siguiente fila en la permutación:\n",
        "\n",
        "print(h0(100),h1(100),h2(100),h3(100),h4(100))"
      ],
      "metadata": {
        "colab": {
          "base_uri": "https://localhost:8080/"
        },
        "id": "Ux47xIn9QxXu",
        "outputId": "856000b7-1168-4a7e-a0d9-26e340b5b152"
      },
      "execution_count": 12,
      "outputs": [
        {
          "output_type": "stream",
          "name": "stdout",
          "text": [
            "104 201 200 600 1100\n"
          ]
        }
      ]
    },
    {
      "cell_type": "markdown",
      "source": [
        "### Calculando la firma de minhash de las odas\n",
        "\n",
        "Como ya sabemos, la matriz de elementos - conjuntos tiene 2349 filas, y 10 columnas, una por cada oda. Vamos a reducir esto a una matriz de 5 filas y 10 columnas: para cada columna, representando una oda, entregamos la firma de minhash correspondiente a la función de hash hi."
      ],
      "metadata": {
        "id": "m8m8nbBdQ9jh"
      }
    },
    {
      "cell_type": "code",
      "source": [
        "### Creamos la matriz FH con las filas y columnas correspondientes.\n",
        "### Inicialmente la matriz tiene solo valores 3000, cualquier valor mas grande\n",
        "### que la cantidad de elementos sirve.\n",
        "\n",
        "n = len(odas_shingles)\n",
        "FH = [[3000 for j in range(n)] for i in range(5)]\n",
        "\n",
        "### Tomamos la union de todos los elementos en el conjunto llamado un,\n",
        "### y para iterar sobre estos, lo transformamos a una lista ordenada\n",
        "\n",
        "for (name,shingle) in odas_shingles.items():\n",
        "    un = un.union(shingle)\n",
        "    sorted_union = sorted(un)\n",
        "\n",
        "### con esto podemos usar names[i] para conseguir el nombre de la i-esima oda.\n",
        "names = list(odas_shingles.keys())\n",
        "\n",
        "             ### iteramos cada elemento\n",
        "for e in range(0,len(sorted_union)):\n",
        "    ### iteramos cada columna, correspondiente a la cantidad de textos (odas en nuestro caso)\n",
        "    for i in range(0,n):\n",
        "        ### si el elemento e no está en el texto i, no hacemos nada\n",
        "        if sorted_union[e] not in odas_shingles[names[i]]:\n",
        "            pass\n",
        "        ### si el elemento si está, computamos los valores de h(e) y\n",
        "        else:\n",
        "            FH[0][i]=min(FH[0][i],h0(e))\n",
        "            FH[1][i]=min(FH[1][i],h1(e))\n",
        "            FH[2][i]=min(FH[2][i],h2(e))\n",
        "            FH[3][i]=min(FH[3][i],h3(e))\n",
        "            FH[4][i]=min(FH[4][i],h4(e))"
      ],
      "metadata": {
        "id": "5ts6wIqnQ-Ne"
      },
      "execution_count": 13,
      "outputs": []
    }
  ]
}